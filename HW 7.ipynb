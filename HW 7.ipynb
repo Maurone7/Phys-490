{
 "cells": [
  {
   "cell_type": "code",
   "execution_count": 74,
   "outputs": [
    {
     "name": "stdout",
     "output_type": "stream",
     "text": [
      "[0. 0. 0. 0.] [0.44421209 0.48212489 0.51726163 0.55015599]\n",
      "[0.44421209 0.48212489 0.51726163 0.55015599] [0.4443962  0.4821814  0.5172089  0.55000734]\n",
      "[0.4443962  0.4821814  0.5172089  0.55000734] [0.44439562 0.48218122 0.51720907 0.55000781]\n",
      "[0.44439562 0.48218122 0.51720907 0.55000781] [0.44439562 0.48218122 0.51720906 0.55000781]\n",
      " \n",
      "21.31666266346187\n",
      "[0.44439562 0.48218122 0.51720906 0.55000781]\n",
      " \n",
      "21.31666266345205\n",
      "[0.44439562 0.48218122 0.51720906 0.55000781]\n"
     ]
    }
   ],
   "source": [
    "import numpy as np\n",
    "\n",
    "def testcreate(n,val):\n",
    "    A = np.arange(val,val+n*n).reshape(n,n)\n",
    "    A = np.sqrt(A)\n",
    "    bs = (A[0,:])**2.1\n",
    "    return A, bs\n",
    "\n",
    "def mag(xs):\n",
    "    return np.sqrt(np.sum(xs*xs))\n",
    "\n",
    "\n",
    "def power(A):\n",
    "    # I set the value of the right side of equation 2 to be equal to the value found in Derivatives I\n",
    "    mechanical_error = 2.2* 10 ** -16\n",
    "    zs = np.ones(A.shape[0])\n",
    "    qs = zs/mag(zs)\n",
    "    qs_1 = np.zeros(qs.shape)\n",
    "\n",
    "    for elements in range(len(qs)):\n",
    "        zs = A @ qs\n",
    "        qs = zs / mag(zs)\n",
    "        new_value = abs(qs[elements] - qs_1[elements]) / qs[elements]\n",
    "        print(qs_1, qs)\n",
    "        if new_value <= mechanical_error:\n",
    "            break\n",
    "\n",
    "        qs_1 = qs\n",
    "\n",
    "\n",
    "\n",
    "    lam = qs@A@qs\n",
    "\n",
    "    return lam, qs\n",
    "\n",
    "def testeigone(f,A,indx=0):\n",
    "    eigval, eigvec = f(A)\n",
    "    print(\" \"); print(eigval); print(eigvec)\n",
    "    npeigvals, npeigvecs = np.linalg.eig(A)\n",
    "    print(\" \")\n",
    "    print(npeigvals[indx]); print(npeigvecs[:,indx])\n",
    "\n",
    "\n",
    "if __name__ == '__main__':\n",
    "    A, bs = testcreate(4,21)\n",
    "    testeigone(power,A)"
   ],
   "metadata": {
    "collapsed": false
   }
  },
  {
   "cell_type": "code",
   "execution_count": null,
   "outputs": [],
   "source": [],
   "metadata": {
    "collapsed": false
   }
  }
 ],
 "metadata": {
  "kernelspec": {
   "display_name": "Python 3",
   "language": "python",
   "name": "python3"
  },
  "language_info": {
   "codemirror_mode": {
    "name": "ipython",
    "version": 2
   },
   "file_extension": ".py",
   "mimetype": "text/x-python",
   "name": "python",
   "nbconvert_exporter": "python",
   "pygments_lexer": "ipython2",
   "version": "2.7.6"
  }
 },
 "nbformat": 4,
 "nbformat_minor": 0
}
