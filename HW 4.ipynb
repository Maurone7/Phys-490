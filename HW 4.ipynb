{
 "cells": [
  {
   "cell_type": "code",
   "execution_count": 31,
   "metadata": {
    "collapsed": true
   },
   "outputs": [
    {
     "name": "stdout",
     "output_type": "stream",
     "text": [
      "[[1.    2.    3.   ]\n",
      " [0.    4.    5.   ]\n",
      " [0.    0.    4.001]]\n",
      "Eigenvalue: 1.0  with eigenvector [1.         0.5547002  0.55468739]\n",
      "====================================================\n",
      "Eigenvalue: 4.0  with eigenvector [0.         0.83205029 0.83205881]\n",
      "====================================================\n",
      "Eigenvalue: 4.001  with eigenvector [0.         0.         0.00016641]\n",
      "====================================================\n",
      "Condition number of A:\n",
      "10.279768377267315\n"
     ]
    }
   ],
   "source": [
    "import numpy as np\n",
    "from numpy import linalg as la\n",
    "\n",
    "A = np.array([[1, 2, 3],\n",
    "              [0, 4, 5],\n",
    "              [0, 0, 4.001]])\n",
    "\n",
    "print(A)\n",
    "w, v = la.eig(A)\n",
    "\n",
    "for index, element in enumerate(w):\n",
    "    print('Eigenvalue:', element, ' with eigenvector', v[index])\n",
    "    print('====================================================')\n",
    "\n",
    "print('Condition number of A:')\n",
    "print(np.linalg.norm(A)*np.linalg.norm(np.linalg.inv(A)))\n"
   ]
  },
  {
   "cell_type": "markdown",
   "source": [
    "Perturbation"
   ],
   "metadata": {
    "collapsed": false
   }
  },
  {
   "cell_type": "code",
   "execution_count": 32,
   "outputs": [
    {
     "name": "stdout",
     "output_type": "stream",
     "text": [
      "[[1.    2.    3.   ]\n",
      " [0.    4.    5.   ]\n",
      " [0.005 0.    4.001]]\n"
     ]
    }
   ],
   "source": [
    "A[2][0] = A[2][0] + 0.005\n",
    "print(A)\n"
   ],
   "metadata": {
    "collapsed": false
   }
  },
  {
   "cell_type": "code",
   "execution_count": 33,
   "outputs": [
    {
     "name": "stdout",
     "output_type": "stream",
     "text": [
      "Eigenvalue: 1.0005565040407038  with eigenvector [ 0.99999475 -0.55298164 -0.55629299]\n",
      "====================================================\n",
      "Eigenvalue: 4.129333359005016  with eigenvector [ 0.00277787 -0.83291484 -0.83071027]\n",
      "====================================================\n",
      "Eigenvalue: 3.871110136954283  with eigenvector [-0.00166641 -0.02154473  0.02141403]\n",
      "====================================================\n"
     ]
    }
   ],
   "source": [
    "w, v = la.eig(A)\n",
    "\n",
    "for index, element in enumerate(w):\n",
    "    print('Eigenvalue:', element, ' with eigenvector', v[index])\n",
    "    print('====================================================')\n"
   ],
   "metadata": {
    "collapsed": false
   }
  },
  {
   "cell_type": "code",
   "execution_count": 33,
   "outputs": [],
   "source": [],
   "metadata": {
    "collapsed": false
   }
  }
 ],
 "metadata": {
  "kernelspec": {
   "display_name": "Python 3",
   "language": "python",
   "name": "python3"
  },
  "language_info": {
   "codemirror_mode": {
    "name": "ipython",
    "version": 2
   },
   "file_extension": ".py",
   "mimetype": "text/x-python",
   "name": "python",
   "nbconvert_exporter": "python",
   "pygments_lexer": "ipython2",
   "version": "2.7.6"
  }
 },
 "nbformat": 4,
 "nbformat_minor": 0
}
