{
 "cells": [
  {
   "cell_type": "code",
   "execution_count": 79,
   "metadata": {
    "collapsed": true
   },
   "outputs": [],
   "source": [
    "import numpy as np"
   ]
  },
  {
   "cell_type": "code",
   "execution_count": 82,
   "outputs": [],
   "source": [
    "\n",
    "def qr_solve(array, array_2):\n",
    "  Q, R = np.linalg.qr(array)\n",
    "  y = np.dot(Q.T, array_2)\n",
    "  n = array.shape[1]\n",
    "  a = np.zeros(n)\n",
    "  for i in range(n-1, -1, -1):\n",
    "    a[i] = (y[i] - np.dot(R[i,i+1:], a[i+1:])) / R[i,i]\n",
    "\n",
    "  return a\n",
    "\n"
   ],
   "metadata": {
    "collapsed": false
   }
  },
  {
   "cell_type": "code",
   "execution_count": 87,
   "outputs": [
    {
     "name": "stdout",
     "output_type": "stream",
     "text": [
      "[0.125      0.80555556]\n"
     ]
    }
   ],
   "source": [
    "array = np.array(np.random.randint(0,10, 4).reshape(2,2))\n",
    "\n",
    "array_2 = np.array(np.random.randint(0,10,2))\n",
    "a = qr_solve(array, array_2)\n",
    "print(a)"
   ],
   "metadata": {
    "collapsed": false
   }
  },
  {
   "cell_type": "code",
   "execution_count": 81,
   "outputs": [],
   "source": [],
   "metadata": {
    "collapsed": false
   }
  }
 ],
 "metadata": {
  "kernelspec": {
   "display_name": "Python 3",
   "language": "python",
   "name": "python3"
  },
  "language_info": {
   "codemirror_mode": {
    "name": "ipython",
    "version": 2
   },
   "file_extension": ".py",
   "mimetype": "text/x-python",
   "name": "python",
   "nbconvert_exporter": "python",
   "pygments_lexer": "ipython2",
   "version": "2.7.6"
  }
 },
 "nbformat": 4,
 "nbformat_minor": 0
}
