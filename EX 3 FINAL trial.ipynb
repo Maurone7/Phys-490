{
 "cells": [
  {
   "cell_type": "markdown",
   "source": [
    "$ x^2 + y^2 = r^2 cos^2(\\theta)sin^{2}(\\phi) + r^2 sin^2(\\theta)sin^2(\\phi)$ \\\n",
    "$ z^2 = r^2 cos^2(\\phi) $"
   ],
   "metadata": {
    "collapsed": false
   }
  },
  {
   "cell_type": "markdown",
   "source": [
    "$\\frac{\\[ \\int_{0}^{1} \\int_{0}^{\\pi} \\int_{0}^{2\\pi} e^{-r^{2}}r (r^2cos^2(\\theta)sin^2(\\phi) + r^2sin^2{\\theta}sin^2{\\phi}) \\, d\\theta d\\phi dr\\]}{ 4\\pi \\int_{0}^{1} re^{-r^2} \\, dr}$ \\\n",
    "$\\approx$ 0.328322"
   ],
   "metadata": {
    "collapsed": false
   }
  },
  {
   "cell_type": "code",
   "execution_count": 31,
   "outputs": [
    {
     "name": "stdout",
     "output_type": "stream",
     "text": [
      "Integration =  0.8380294682033987\n",
      "Acceptance probability is 0.22433\n"
     ]
    }
   ],
   "source": [
    "import numpy as np\n",
    "\n",
    "def w(x):\n",
    "    x_sq = np.sum(x**2)\n",
    "    if (x_sq > 1):\n",
    "        return 0.\n",
    "    else:\n",
    "        return np.exp(-x_sq)\n",
    "\n",
    "\n",
    "def f(x, y):\n",
    "    return x[0]**2 + y[0]**2\n",
    "\n",
    "\n",
    "def initialize():\n",
    "    return np.random.uniform(-0.5, 0.5, 3)\n",
    "\n",
    "\n",
    "def propose_new(x, theta):\n",
    "    return x + theta * np.random.uniform(-1, 1, 3)\n",
    "\n",
    "\n",
    "def monte_carlo(w, f, theta, n_sample, discard_m):\n",
    "    x = initialize()\n",
    "    wx = w(x)\n",
    "    fs = []\n",
    "    accept_num = 0\n",
    "    for jj in range(discard_m+n_sample):\n",
    "        y = propose_new(x, theta)\n",
    "        wy = w(y)\n",
    "        z = propose_new(x, theta)\n",
    "        wz = w(z)\n",
    "        if (wx>wy):\n",
    "            alpha = wy/wx\n",
    "            xi = np.random.uniform(0, 1)\n",
    "            if (alpha >= xi):\n",
    "                x = y\n",
    "                wx = wy\n",
    "                accept_num += 1\n",
    "        else:\n",
    "            x = y\n",
    "            wx = wy\n",
    "            accept_num += 1\n",
    "\n",
    "        fs.append(f(x, y))\n",
    "\n",
    "    accept_prob = accept_num/n_sample\n",
    "    fs = np.array(fs)\n",
    "    fs = fs[discard_m:]\n",
    "    return np.sum(fs)/n_sample, accept_prob\n",
    "\n",
    "if __name__ == '__main__':\n",
    "    theta = 1.2\n",
    "    n_sample = 100000\n",
    "    discard_m = 2000\n",
    "    integral, accept_prob = monte_carlo(w, f, theta, n_sample, discard_m)\n",
    "    print(\"Integration = \", integral)\n",
    "    print(\"Acceptance probability is\", accept_prob)"
   ],
   "metadata": {
    "collapsed": false
   }
  },
  {
   "cell_type": "code",
   "execution_count": null,
   "outputs": [],
   "source": [],
   "metadata": {
    "collapsed": false
   }
  }
 ],
 "metadata": {
  "kernelspec": {
   "display_name": "Python 3",
   "language": "python",
   "name": "python3"
  },
  "language_info": {
   "codemirror_mode": {
    "name": "ipython",
    "version": 2
   },
   "file_extension": ".py",
   "mimetype": "text/x-python",
   "name": "python",
   "nbconvert_exporter": "python",
   "pygments_lexer": "ipython2",
   "version": "2.7.6"
  }
 },
 "nbformat": 4,
 "nbformat_minor": 0
}
