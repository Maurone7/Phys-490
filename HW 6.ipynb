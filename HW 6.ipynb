{
 "cells": [
  {
   "cell_type": "code",
   "execution_count": 307,
   "outputs": [],
   "source": [
    "import numpy as np\n",
    "\n",
    "def testcreate(n,val):\n",
    "    A = np.arange(val,val+n*n).reshape(n,n)\n",
    "    A = np.sqrt(A)\n",
    "    bs = [(A[0,:])**2.1]\n",
    "    print('A :', A)\n",
    "    print('bs: ', bs)\n",
    "    return A, bs\n"
   ],
   "metadata": {
    "collapsed": false
   }
  },
  {
   "cell_type": "code",
   "execution_count": 308,
   "outputs": [
    {
     "name": "stdout",
     "output_type": "stream",
     "text": [
      "np.linalg.inv: \n",
      " [[ -428980.4369783   1637250.28239776 -2014582.43175401   805708.56468281]\n",
      " [ 1354917.34023694 -5189903.4051218   6403036.8758538  -2566061.85641496]\n",
      " [-1424042.66985607  5473024.90152475 -6769071.01647551  2717913.05891079]\n",
      " [  498099.53522575 -1920343.61557472  2380576.52878968  -957541.59679402]]\n",
      "Mauro \n",
      " [[ -428980.43546836  1637250.27661743 -2014582.42462556   805708.56182695]\n",
      " [ 1354917.33545168 -5189903.386803    6403036.85326262 -2566061.84736429]\n",
      " [-1424042.66481087  5473024.88221084 -6769070.99265713  2717913.04936848]\n",
      " [  498099.53345588 -1920343.60879937  2380576.52043416  -957541.59344657]]\n",
      "Eigenvalue: 21.31666266345205  with eigenvector [ 0.44439562 -0.71207238 -0.51532474  0.20536846]\n",
      "====================================================\n",
      "Eigenvalue: -0.06723371479665197  with eigenvector [ 0.48218122 -0.1981024   0.59247232 -0.65201842]\n",
      "====================================================\n",
      "Eigenvalue: -6.930226390419637e-05  with eigenvector [0.51720906 0.24202361 0.39774447 0.68859348]\n",
      "====================================================\n",
      "Eigenvalue: -7.501283436562824e-08  with eigenvector [ 0.55000781  0.62859601 -0.47456959 -0.24193965]\n",
      "====================================================\n",
      "Eigenvalue: -13331052.038753223  with eigenvector [-0.20536846 -0.51532474 -0.71207238 -0.44439562]\n",
      "====================================================\n",
      "Eigenvalue: -14429.543043277454  with eigenvector [ 0.65201842  0.59247232 -0.1981024  -0.48218122]\n",
      "====================================================\n",
      "Eigenvalue: -14.873490227799754  with eigenvector [-0.68859348  0.39774447  0.24202361 -0.51720906]\n",
      "====================================================\n",
      "Eigenvalue: 0.04691165827589433  with eigenvector [ 0.24193965 -0.47456959  0.62859601 -0.55000781]\n",
      "====================================================\n"
     ]
    }
   ],
   "source": [
    "import numpy as np\n",
    "solutions = []\n",
    "I = np.identity(4)\n",
    "for x in range(4):\n",
    "    def testcreate(n,val):\n",
    "        A = np.arange(val,val+n*n).reshape(n,n)\n",
    "        A = np.sqrt(A)\n",
    "        # no need to trasnpose the unit matrix\n",
    "        bs = I[x]\n",
    "        return A, bs\n",
    "\n",
    "    def forsub(L, bs):\n",
    "        n = 4\n",
    "        xs = np.zeros(n)\n",
    "        for i in range(n):\n",
    "            xs[i] = (bs[i] - L[i,:i]@xs[:i])/L[i,i]\n",
    "        return xs\n",
    "\n",
    "    def backsub(U, bs):\n",
    "        n = 4\n",
    "        xs = np.zeros(n)\n",
    "        for i in reversed(range(n)):\n",
    "            xs[i] = (bs[i] - U[i,i+1:]@xs[i+1:])/U[i,i]\n",
    "        return xs\n",
    "\n",
    "    def testsolve(f, A, bs):\n",
    "        xs = f(A,bs)\n",
    "        for element in xs:\n",
    "            solutions.append(element)\n",
    "        xs = np.linalg.inv(A)\n",
    "        if x == 3:\n",
    "            print(\"np.linalg.inv: \\n\", xs)\n",
    "\n",
    "    def ludec(A):\n",
    "        n = A.shape[0]\n",
    "        U = np.copy(A)\n",
    "        L = np.identity(n)\n",
    "\n",
    "        for j in range(n-1):\n",
    "            for i in range(j+1,n):\n",
    "                coeff = U[i,j]/U[j,j]\n",
    "                U[i,j:] -= coeff*U[j,j:]\n",
    "                L[i,j] = coeff\n",
    "\n",
    "        return L, U\n",
    "\n",
    "    def lusolve(A, bs):\n",
    "        L, U = ludec(A)\n",
    "        ys = forsub(L,bs)\n",
    "        xs = backsub(U,ys)\n",
    "        return xs\n",
    "\n",
    "    if __name__ == '__main__':\n",
    "        A, bs = testcreate(4,21)\n",
    "        testsolve(lusolve,A,bs)\n",
    "\n",
    "solutions = np.array(solutions).reshape(4,4)\n",
    "solutions = solutions.transpose()\n",
    "print('Mauro \\n', solutions)\n",
    "\n",
    "w, v = np.linalg.eig(A)\n",
    "\n",
    "for index, element in enumerate(w):\n",
    "    print('Eigenvalue:', element, ' with eigenvector', v[index])\n",
    "    print('====================================================')\n",
    "\n",
    "w, v = np.linalg.eig(solutions)\n",
    "\n",
    "for index, element in enumerate(w):\n",
    "    print('Eigenvalue:', element, ' with eigenvector', v[index])\n",
    "    print('====================================================')"
   ],
   "metadata": {
    "collapsed": false
   }
  },
  {
   "cell_type": "code",
   "execution_count": 308,
   "outputs": [],
   "source": [],
   "metadata": {
    "collapsed": false
   }
  }
 ],
 "metadata": {
  "kernelspec": {
   "display_name": "Python 3",
   "language": "python",
   "name": "python3"
  },
  "language_info": {
   "codemirror_mode": {
    "name": "ipython",
    "version": 2
   },
   "file_extension": ".py",
   "mimetype": "text/x-python",
   "name": "python",
   "nbconvert_exporter": "python",
   "pygments_lexer": "ipython2",
   "version": "2.7.6"
  }
 },
 "nbformat": 4,
 "nbformat_minor": 0
}
